{
 "cells": [
  {
   "cell_type": "markdown",
   "id": "29bd2105",
   "metadata": {},
   "source": [
    "# VARIABLES EN PYTHON\n",
    "\n",
    "Existen muchos tipos de datos en python pero veremos los fundamentales en este notebook de python."
   ]
  },
  {
   "cell_type": "markdown",
   "id": "b46b921c",
   "metadata": {},
   "source": [
    "## Tipos de datos "
   ]
  },
  {
   "cell_type": "markdown",
   "id": "66856d28",
   "metadata": {},
   "source": [
    "### Enteros\n",
    "\n",
    "Es un tipo de dato capaz de representar numeros sin punto decimal desde 0,1,.. infinito hasta los numeros negativos -1, -2."
   ]
  },
  {
   "cell_type": "code",
   "execution_count": 1,
   "id": "456bb162",
   "metadata": {},
   "outputs": [
    {
     "name": "stdout",
     "output_type": "stream",
     "text": [
      "<class 'int'>\n"
     ]
    }
   ],
   "source": [
    "# - Números enteros (int)\n",
    "numero = 42\n",
    "print(type(numero))  # Esto devuelve <class 'int'>"
   ]
  },
  {
   "cell_type": "code",
   "execution_count": 13,
   "id": "0da110c5",
   "metadata": {},
   "outputs": [
    {
     "name": "stdout",
     "output_type": "stream",
     "text": [
      "1000000000000\n",
      "<class 'int'>\n"
     ]
    }
   ],
   "source": [
    "# - Números grandes se representan mejor con un \"_\" para mejorar la legibilidad \n",
    "\n",
    "numero_grande = 1_000_000_000_000\n",
    "print(numero_grande)  # Esto imprime 1000000000000\n",
    "print(type(numero_grande))  # Esto devuelve <class 'int'>"
   ]
  },
  {
   "cell_type": "code",
   "execution_count": 6,
   "id": "c537f64c",
   "metadata": {},
   "outputs": [
    {
     "name": "stdout",
     "output_type": "stream",
     "text": [
      "-5\n",
      "<class 'int'>\n"
     ]
    }
   ],
   "source": [
    "# - Números negativos\n",
    "numero_negativo = -5\n",
    "print(numero_negativo)  # Esto imprime -5\n",
    "print(type(numero_negativo))  # Esto devuelve <class 'int'>"
   ]
  },
  {
   "cell_type": "markdown",
   "id": "7904067f",
   "metadata": {},
   "source": [
    "### Números de punto flotante\n",
    "\n",
    "Este tipo de dato es usado para representar números con punto decimal tanto positivos como negativos."
   ]
  },
  {
   "cell_type": "code",
   "execution_count": 7,
   "id": "957f3313",
   "metadata": {},
   "outputs": [
    {
     "name": "stdout",
     "output_type": "stream",
     "text": [
      "<class 'float'>\n"
     ]
    }
   ],
   "source": [
    "# - Números de punto flotante (float)\n",
    "numero_decimal = 3.14\n",
    "print(type(numero_decimal))  # Esto devuelve <class 'float'>"
   ]
  },
  {
   "cell_type": "code",
   "execution_count": 9,
   "id": "3072c4ba",
   "metadata": {},
   "outputs": [
    {
     "name": "stdout",
     "output_type": "stream",
     "text": [
      "-3.14\n",
      "<class 'float'>\n"
     ]
    }
   ],
   "source": [
    "# - Números de punto flotante (float)\n",
    "numero_decimal_negativo = -3.14\n",
    "print(numero_decimal_negativo)  # Esto imprime -3.14\n",
    "print(type(numero_decimal_negativo))  # Esto devuelve <class 'float'>"
   ]
  },
  {
   "cell_type": "markdown",
   "id": "b015a727",
   "metadata": {},
   "source": [
    "### Cadenas de texto\n",
    "\n",
    "Se usan para representar texto o letras siempre debe estar encerrado entre comillas simples '' o comillas dobles \"\"."
   ]
  },
  {
   "cell_type": "code",
   "execution_count": 10,
   "id": "a6e3731b",
   "metadata": {},
   "outputs": [
    {
     "name": "stdout",
     "output_type": "stream",
     "text": [
      "Hola, mundo!\n",
      "<class 'str'>\n"
     ]
    }
   ],
   "source": [
    "# - Cadenas de texto (str)\n",
    "texto = \"Hola, mundo!\"\n",
    "print(texto)  # Esto imprime \"Hola, mundo!\"\n",
    "print(type(texto))  # Esto devuelve <class 'str'>"
   ]
  },
  {
   "cell_type": "markdown",
   "id": "21f5f18a",
   "metadata": {},
   "source": [
    "### Booleanos\n",
    "\n",
    "Este tipo de dato se usa para representar verdadero (True) o falso (False).\n",
    "se usa generalmente para saber si una condicion es verdadero o falso."
   ]
  },
  {
   "cell_type": "code",
   "execution_count": 11,
   "id": "ebfd2f2f",
   "metadata": {},
   "outputs": [
    {
     "name": "stdout",
     "output_type": "stream",
     "text": [
      "True\n",
      "<class 'bool'>\n"
     ]
    }
   ],
   "source": [
    "# - booleanos (bool)\n",
    "booleano = True\n",
    "print(booleano)  # Esto imprime True\n",
    "print(type(booleano))  # Esto devuelve <class 'bool'>"
   ]
  },
  {
   "cell_type": "code",
   "execution_count": 12,
   "id": "854694f1",
   "metadata": {},
   "outputs": [
    {
     "name": "stdout",
     "output_type": "stream",
     "text": [
      "False\n",
      "<class 'bool'>\n"
     ]
    }
   ],
   "source": [
    "# - booleanos (bool)\n",
    "booleano_false = False\n",
    "print(booleano_false)  # Esto imprime False\n",
    "print(type(booleano_false))  # Esto devuelve <class 'bool'>"
   ]
  }
 ],
 "metadata": {
  "kernelspec": {
   "display_name": "Python 3",
   "language": "python",
   "name": "python3"
  },
  "language_info": {
   "codemirror_mode": {
    "name": "ipython",
    "version": 3
   },
   "file_extension": ".py",
   "mimetype": "text/x-python",
   "name": "python",
   "nbconvert_exporter": "python",
   "pygments_lexer": "ipython3",
   "version": "3.12.11"
  }
 },
 "nbformat": 4,
 "nbformat_minor": 5
}
