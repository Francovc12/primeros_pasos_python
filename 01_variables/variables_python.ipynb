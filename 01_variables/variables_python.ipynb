{
 "cells": [
  {
   "cell_type": "markdown",
   "id": "29bd2105",
   "metadata": {},
   "source": [
    "# VARIABLES EN PYTHON\n",
    "\n",
    "Existen muchos tipos de datos en python pero veremos los fundamentales en este notebook de python."
   ]
  },
  {
   "cell_type": "code",
   "execution_count": 2,
   "id": "ebfd2f2f",
   "metadata": {},
   "outputs": [
    {
     "name": "stdout",
     "output_type": "stream",
     "text": [
      "<class 'int'>\n",
      "<class 'float'>\n",
      "<class 'str'>\n",
      "<class 'bool'>\n"
     ]
    }
   ],
   "source": [
    "# los tipos de datos en Python son:\n",
    "# - Números enteros (int)\n",
    "numero = 42\n",
    "print(type(numero))  # Esto devuelve <class 'int'>\n",
    "# - Números de punto flotante (float)\n",
    "numero_decimal = 3.14\n",
    "print(type(numero_decimal))  # Esto devuelve <class 'float'>\n",
    "# - Cadenas de texto (str)\n",
    "texto = \"Hola, mundo!\"\n",
    "print(type(texto))  # Esto devuelve <class 'str'>\n",
    "# - booleanos (bool)\n",
    "booleano = True\n",
    "print(type(booleano))  # Esto devuelve <class 'bool'>"
   ]
  }
 ],
 "metadata": {
  "kernelspec": {
   "display_name": "Python 3",
   "language": "python",
   "name": "python3"
  },
  "language_info": {
   "codemirror_mode": {
    "name": "ipython",
    "version": 3
   },
   "file_extension": ".py",
   "mimetype": "text/x-python",
   "name": "python",
   "nbconvert_exporter": "python",
   "pygments_lexer": "ipython3",
   "version": "3.12.11"
  }
 },
 "nbformat": 4,
 "nbformat_minor": 5
}
