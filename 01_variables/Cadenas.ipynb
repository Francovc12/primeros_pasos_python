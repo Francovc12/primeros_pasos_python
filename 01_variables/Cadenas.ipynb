{
 "cells": [
  {
   "cell_type": "markdown",
   "id": "ec56ada3",
   "metadata": {},
   "source": [
    "## CADENAS DE TEXTO"
   ]
  },
  {
   "cell_type": "markdown",
   "id": "942cb603",
   "metadata": {},
   "source": [
    "Las cadenas de texto son utiles para representar textos largos o cortos. Podemos guardar en ellos el texto de una cancion, el normbre de una persona, una identificacion, etc.\n",
    "Para Python las cadenas de texto las podemos poner entre comillas simples (''), comillas dobles (\"\") o comillas triples (\"\"\" \"\"\")"
   ]
  },
  {
   "cell_type": "code",
   "execution_count": 1,
   "id": "3b99647e",
   "metadata": {},
   "outputs": [
    {
     "name": "stdout",
     "output_type": "stream",
     "text": [
      "Hola, mundo!\n",
      "Este es un texto\n",
      "que abarca varias líneas.\n",
      "Se utiliza para demostrar\n",
      "cómo funcionan las cadenas de texto en Python.\n"
     ]
    }
   ],
   "source": [
    "texto_corto=\"Hola, mundo!\"\n",
    "texto_largo=\"\"\"Este es un texto\n",
    "que abarca varias líneas.\n",
    "Se utiliza para demostrar\n",
    "cómo funcionan las cadenas de texto en Python.\"\"\"\n",
    "print(texto_corto)\n",
    "print(texto_largo)"
   ]
  },
  {
   "cell_type": "code",
   "execution_count": null,
   "id": "b5adb52d",
   "metadata": {},
   "outputs": [
    {
     "name": "stdout",
     "output_type": "stream",
     "text": [
      "HOLA, MUNDO!\n",
      "este es un texto\n",
      "que abarca varias líneas.\n",
      "se utiliza para demostrar\n",
      "cómo funcionan las cadenas de texto en python.\n",
      "Adiós, mundo!\n",
      "['Este es un texto', 'que abarca varias líneas.', 'Se utiliza para demostrar', 'cómo funcionan las cadenas de texto en Python.']\n"
     ]
    }
   ],
   "source": [
    "#funciones de cadenas\n",
    "print(texto_corto.upper()) # Convierte a mayúsculas\n",
    "print(texto_corto.capitalize()) # Capitaliza la primera letra\n",
    "print(texto_largo.lower()) # Convierte a minúsculas\n",
    "print(texto_corto.replace(\"Hola\", \"Adiós\")) # Reemplaza una subcadena\n",
    "print(texto_largo.splitlines()) # Divide en líneas"
   ]
  },
  {
   "cell_type": "code",
   "execution_count": null,
   "id": "82e0cece",
   "metadata": {},
   "outputs": [],
   "source": []
  }
 ],
 "metadata": {
  "kernelspec": {
   "display_name": "Python 3",
   "language": "python",
   "name": "python3"
  },
  "language_info": {
   "codemirror_mode": {
    "name": "ipython",
    "version": 3
   },
   "file_extension": ".py",
   "mimetype": "text/x-python",
   "name": "python",
   "nbconvert_exporter": "python",
   "pygments_lexer": "ipython3",
   "version": "3.12.11"
  }
 },
 "nbformat": 4,
 "nbformat_minor": 5
}
