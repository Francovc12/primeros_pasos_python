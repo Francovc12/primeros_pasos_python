{
 "cells": [
  {
   "cell_type": "markdown",
   "id": "bb159ae5",
   "metadata": {},
   "source": [
    "## Tipo de datos Enteros"
   ]
  },
  {
   "cell_type": "markdown",
   "id": "c9ff601e",
   "metadata": {},
   "source": [
    "Aqui profundizaremos sobre los metodos por defecto del tipo de dato Enteros (int) que vienen incluidos en el lenguaje de programación Python."
   ]
  },
  {
   "cell_type": "code",
   "execution_count": null,
   "id": "11cc0ae0",
   "metadata": {},
   "outputs": [
    {
     "name": "stdout",
     "output_type": "stream",
     "text": [
      "True\n"
     ]
    }
   ],
   "source": [
    "numero = 23\n",
    "print(numero.is_integer())# esto da True porque 23 es un entero"
   ]
  },
  {
   "cell_type": "code",
   "execution_count": 3,
   "id": "4d55daee",
   "metadata": {},
   "outputs": [
    {
     "name": "stdout",
     "output_type": "stream",
     "text": [
      "suma =  28\n",
      "resta =  18\n",
      "multiplicacion =  46\n",
      "division =  11.5\n",
      "division_entera =  11\n",
      "modulo =  1\n",
      "potencia =  529\n",
      "valor_absoluto =  23\n",
      "redondeo =  23\n",
      "potencia_pow =  529\n",
      "maximo =  23\n",
      "minimo =  10\n",
      "divmod =  (4, 3)\n"
     ]
    }
   ],
   "source": [
    "#con numeros enteros podemos hacer operaciones matematicas\n",
    "print(\"suma = \", numero + 5)  # Suma\n",
    "print(\"resta = \", numero - 5)  # Resta\n",
    "print(\"multiplicacion = \", numero * 2)  # Multiplicación\n",
    "print(\"division = \", numero / 2)  # División\n",
    "print(\"division_entera = \", numero // 2) # División entera\n",
    "print(\"modulo = \", numero % 2)  # Módulo (resto de la división)\n",
    "print(\"potencia = \", numero ** 2) # Potencia (23 al cuadrado)\n",
    "print(\"valor_absoluto = \", abs(numero))  # Valor absoluto\n",
    "print(\"redondeo = \", round(numero, 0))  # Redondeo al entero más cercano\n",
    "print(\"potencia_pow = \", pow(numero, 2))  # Potencia usando la función pow\n",
    "print(\"maximo = \", max(numero, 10))  # Máximo entre numero y 10\n",
    "print(\"minimo = \", min(numero, 10))  # Mínimo entre numero y 10\n",
    "print(\"divmod = \", divmod(numero, 5))  # División y resto como tupla"
   ]
  },
  {
   "cell_type": "code",
   "execution_count": null,
   "id": "702a1795",
   "metadata": {},
   "outputs": [],
   "source": []
  }
 ],
 "metadata": {
  "kernelspec": {
   "display_name": "Python 3",
   "language": "python",
   "name": "python3"
  },
  "language_info": {
   "codemirror_mode": {
    "name": "ipython",
    "version": 3
   },
   "file_extension": ".py",
   "mimetype": "text/x-python",
   "name": "python",
   "nbconvert_exporter": "python",
   "pygments_lexer": "ipython3",
   "version": "3.12.11"
  }
 },
 "nbformat": 4,
 "nbformat_minor": 5
}
